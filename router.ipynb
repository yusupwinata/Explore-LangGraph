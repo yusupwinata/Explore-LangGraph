{
 "cells": [
  {
   "cell_type": "markdown",
   "id": "1ec819e4-e8fd-44c2-a1ab-7670fcb3750b",
   "metadata": {},
   "source": [
    "# Router\n",
    "\n",
    "Control flow using LLMs: direct response or tool call based on input."
   ]
  },
  {
   "cell_type": "code",
   "execution_count": 1,
   "id": "8b4b130d-7dcc-4e3d-b0ac-33bd345a4101",
   "metadata": {},
   "outputs": [],
   "source": [
    "# API Keys\n",
    "import os\n",
    "from dotenv import load_dotenv\n",
    "\n",
    "# Models\n",
    "from langchain_openai import ChatOpenAI\n",
    "\n",
    "# Messages\n",
    "from langchain_core.messages import HumanMessage\n",
    "\n",
    "# Graphs\n",
    "from langgraph.graph import MessagesState\n",
    "from langgraph.graph import StateGraph, START, END\n",
    "from langgraph.prebuilt import ToolNode, tools_condition # router\n",
    "from IPython.display import Image, display\n",
    "import pprint"
   ]
  },
  {
   "cell_type": "markdown",
   "id": "7ef25e8e-22fa-4f2d-8b68-ac7ac6ea900b",
   "metadata": {},
   "source": [
    "# 1. Models"
   ]
  },
  {
   "cell_type": "code",
   "execution_count": 2,
   "id": "10116dd4-72bc-4ec1-92e6-c6c8bc100386",
   "metadata": {},
   "outputs": [],
   "source": [
    "# OpenAI\n",
    "load_dotenv(override=True)\n",
    "OPENAI_API_KEY = os.getenv(\"OPENAI_API_KEY\", \"type-your-api-here\")\n",
    "gpt = \"gpt-4o-mini\"\n",
    "\n",
    "# Ollama\n",
    "OLLAMA_API_KEY = \"ollama\"\n",
    "OLLAMA_BASE_URL = \"http://localhost:11434/v1\"\n",
    "llama = \"llama3.2:latest\""
   ]
  },
  {
   "cell_type": "code",
   "execution_count": 4,
   "id": "c34055ee-b436-4016-82d8-23c77d273bf9",
   "metadata": {},
   "outputs": [
    {
     "name": "stdout",
     "output_type": "stream",
     "text": [
      "CPU times: total: 3.19 s\n",
      "Wall time: 20.5 s\n"
     ]
    },
    {
     "data": {
      "text/plain": [
       "AIMessage(content='Hello! How can I assist you today?', additional_kwargs={'refusal': None}, response_metadata={'token_usage': {'completion_tokens': 9, 'prompt_tokens': 10, 'total_tokens': 19, 'completion_tokens_details': {'accepted_prediction_tokens': 0, 'audio_tokens': 0, 'reasoning_tokens': 0, 'rejected_prediction_tokens': 0}, 'prompt_tokens_details': {'audio_tokens': 0, 'cached_tokens': 0}}, 'model_name': 'gpt-4o-mini-2024-07-18', 'system_fingerprint': 'fp_34a54ae93c', 'id': 'chatcmpl-BgtJFAYRuLsm0RPLRwDVyNLhw7KaO', 'service_tier': 'default', 'finish_reason': 'stop', 'logprobs': None}, id='run--4775d970-e24c-4182-8331-1c7b2b54b94f-0', usage_metadata={'input_tokens': 10, 'output_tokens': 9, 'total_tokens': 19, 'input_token_details': {'audio': 0, 'cache_read': 0}, 'output_token_details': {'audio': 0, 'reasoning': 0}})"
      ]
     },
     "execution_count": 4,
     "metadata": {},
     "output_type": "execute_result"
    }
   ],
   "source": [
    "%%time\n",
    "llm = ChatOpenAI(model=gpt, temperature=0.3)\n",
    "# llm = ChatOpenAI(model=llama, temperature=0.3, api_key=OLLAMA_API_KEY, base_url=OLLAMA_BASE_URL)\n",
    "\n",
    "llm.invoke(\"Hello there!\")"
   ]
  },
  {
   "cell_type": "markdown",
   "id": "d5d50f21-dc80-4b4e-9937-43abd7665564",
   "metadata": {},
   "source": [
    "# 2. Tools"
   ]
  },
  {
   "cell_type": "code",
   "execution_count": 5,
   "id": "61851df5-3142-4bac-8c93-6decc1878e3e",
   "metadata": {},
   "outputs": [],
   "source": [
    "def add(a: int, b: int):\n",
    "    \"\"\"Add b to a.\n",
    "\n",
    "    Args:\n",
    "        a: first int\n",
    "        b: second int\n",
    "    \"\"\"\n",
    "    return a + b\n",
    "\n",
    "def subtract(a: int, b: int):\n",
    "    \"\"\"Subtract b from a.\n",
    "\n",
    "    Args:\n",
    "        a: first int\n",
    "        b: second int\n",
    "    \"\"\"\n",
    "    return a - b\n",
    "\n",
    "def multiply(a: int, b: int):\n",
    "    \"\"\"Multiply a and b.\n",
    "\n",
    "    Args:\n",
    "        a: first int\n",
    "        b: second int\n",
    "    \"\"\"\n",
    "    return a * b\n",
    "\n",
    "def divide(a: int, b: int):\n",
    "    \"\"\"Divide a by b.\n",
    "\n",
    "    Args:\n",
    "        a: first int\n",
    "        b: second int\n",
    "    \"\"\"\n",
    "    return a / b"
   ]
  },
  {
   "cell_type": "code",
   "execution_count": 6,
   "id": "128064bd-9946-47bd-ae9c-34af99d71a0f",
   "metadata": {},
   "outputs": [],
   "source": [
    "tools = [add, subtract, multiply, divide]\n",
    "llm_with_tools = llm.bind_tools(tools=tools)"
   ]
  },
  {
   "cell_type": "code",
   "execution_count": 7,
   "id": "c0a72a3b-74bd-43fa-a9e6-d928d1ccdc45",
   "metadata": {},
   "outputs": [
    {
     "data": {
      "text/plain": [
       "RunnableBinding(bound=ChatOpenAI(client=<openai.resources.chat.completions.completions.Completions object at 0x000001CC174D7690>, async_client=<openai.resources.chat.completions.completions.AsyncCompletions object at 0x000001CC17952B50>, root_client=<openai.OpenAI object at 0x000001CC7F9B8310>, root_async_client=<openai.AsyncOpenAI object at 0x000001CC179526D0>, model_name='gpt-4o-mini', temperature=0.3, model_kwargs={}, openai_api_key=SecretStr('**********')), kwargs={'tools': [{'type': 'function', 'function': {'name': 'add', 'description': 'Add b to a.', 'parameters': {'properties': {'a': {'description': 'first int', 'type': 'integer'}, 'b': {'description': 'second int', 'type': 'integer'}}, 'required': ['a', 'b'], 'type': 'object'}}}, {'type': 'function', 'function': {'name': 'subtract', 'description': 'Subtract b from a.', 'parameters': {'properties': {'a': {'description': 'first int', 'type': 'integer'}, 'b': {'description': 'second int', 'type': 'integer'}}, 'required': ['a', 'b'], 'type': 'object'}}}, {'type': 'function', 'function': {'name': 'multiply', 'description': 'Multiply a and b.', 'parameters': {'properties': {'a': {'description': 'first int', 'type': 'integer'}, 'b': {'description': 'second int', 'type': 'integer'}}, 'required': ['a', 'b'], 'type': 'object'}}}, {'type': 'function', 'function': {'name': 'divide', 'description': 'Divide a by b.', 'parameters': {'properties': {'a': {'description': 'first int', 'type': 'integer'}, 'b': {'description': 'second int', 'type': 'integer'}}, 'required': ['a', 'b'], 'type': 'object'}}}]}, config={}, config_factories=[])"
      ]
     },
     "execution_count": 7,
     "metadata": {},
     "output_type": "execute_result"
    }
   ],
   "source": [
    "llm_with_tools"
   ]
  },
  {
   "cell_type": "markdown",
   "id": "568ebe3c-4d9e-4204-97aa-9765d4865ce7",
   "metadata": {},
   "source": [
    "# 3. Build the Graph"
   ]
  },
  {
   "cell_type": "code",
   "execution_count": 8,
   "id": "87412b05-f241-4b30-9302-90e624a1c2d5",
   "metadata": {},
   "outputs": [
    {
     "data": {
      "text/plain": [
       "[<function __main__.add(a: int, b: int)>,\n",
       " <function __main__.subtract(a: int, b: int)>,\n",
       " <function __main__.multiply(a: int, b: int)>,\n",
       " <function __main__.divide(a: int, b: int)>]"
      ]
     },
     "execution_count": 8,
     "metadata": {},
     "output_type": "execute_result"
    }
   ],
   "source": [
    "tools"
   ]
  },
  {
   "cell_type": "code",
   "execution_count": 9,
   "id": "6cc31bcc-a3e3-4d2a-b513-dc6746836579",
   "metadata": {},
   "outputs": [
    {
     "data": {
      "image/png": "[encoded data removed]",
      "text/plain": [
       "<IPython.core.display.Image object>"
      ]
     },
     "metadata": {},
     "output_type": "display_data"
    }
   ],
   "source": [
    "# Node functions\n",
    "def tool_calling_llm(state: MessagesState):\n",
    "    return {\"messages\": [llm_with_tools.invoke(state[\"messages\"])]}\n",
    "\n",
    "# Build graph\n",
    "builder = StateGraph(MessagesState)\n",
    "\n",
    "# Nodes\n",
    "builder.add_node(\"tool_calling_llm\", tool_calling_llm)\n",
    "builder.add_node(\"tools\", ToolNode(tools))\n",
    "\n",
    "# Edges\n",
    "builder.add_edge(START, \"tool_calling_llm\")\n",
    "builder.add_conditional_edges(\n",
    "    \"tool_calling_llm\",\n",
    "    tools_condition\n",
    ")\n",
    "builder.add_edge(\"tools\", END)\n",
    "\n",
    "graph = builder.compile()\n",
    "display(Image(graph.get_graph().draw_mermaid_png()))\n",
    "\n",
    "# If the latest message (result) from assistant is a tool call -> tools_condition routes to tools\n",
    "# If the latest message (result) from assistant is a not a tool call -> tools_condition routes to END"
   ]
  },
  {
   "cell_type": "markdown",
   "id": "b0cf693a-adac-4d05-abd2-36066e591bf3",
   "metadata": {},
   "source": [
    "# Testing"
   ]
  },
  {
   "cell_type": "code",
   "execution_count": 11,
   "id": "29856b43-d2f8-428b-8051-07627ac909fc",
   "metadata": {},
   "outputs": [
    {
     "name": "stdout",
     "output_type": "stream",
     "text": [
      "================================\u001b[1m Human Message \u001b[0m=================================\n",
      "Name: Yusup\n",
      "\n",
      "How many 3 add 2, and then multiply it by 7!\n",
      "==================================\u001b[1m Ai Message \u001b[0m==================================\n",
      "Tool Calls:\n",
      "  add (call_aIz94mHDcoEnfCKTsO9ptdO3)\n",
      " Call ID: call_aIz94mHDcoEnfCKTsO9ptdO3\n",
      "  Args:\n",
      "    a: 3\n",
      "    b: 2\n",
      "  multiply (call_kZ33JjXgCIcak63zvyN9vDrS)\n",
      " Call ID: call_kZ33JjXgCIcak63zvyN9vDrS\n",
      "  Args:\n",
      "    a: 5\n",
      "    b: 7\n",
      "=================================\u001b[1m Tool Message \u001b[0m=================================\n",
      "Name: add\n",
      "\n",
      "5\n",
      "=================================\u001b[1m Tool Message \u001b[0m=================================\n",
      "Name: multiply\n",
      "\n",
      "35\n",
      "CPU times: total: 31.2 ms\n",
      "Wall time: 17.1 s\n"
     ]
    }
   ],
   "source": [
    "%%time\n",
    "\n",
    "messages = [HumanMessage(content=\"How many 3 add 2, and then multiply it by 7!\", name=\"Yusup\")] # Hello, what is 3 add 7?\n",
    "messages = graph.invoke({\"messages\": messages})\n",
    "\n",
    "for message in messages[\"messages\"]:\n",
    "    message.pretty_print()"
   ]
  },
  {
   "cell_type": "code",
   "execution_count": null,
   "id": "1e46c5eb-eb10-4365-8e29-74b6c2e19aee",
   "metadata": {},
   "outputs": [],
   "source": []
  }
 ],
 "metadata": {
  "kernelspec": {
   "display_name": "hugface",
   "language": "python",
   "name": "hugface"
  },
  "language_info": {
   "codemirror_mode": {
    "name": "ipython",
    "version": 3
   },
   "file_extension": ".py",
   "mimetype": "text/x-python",
   "name": "python",
   "nbconvert_exporter": "python",
   "pygments_lexer": "ipython3",
   "version": "3.11.11"
  }
 },
 "nbformat": 4,
 "nbformat_minor": 5
}
