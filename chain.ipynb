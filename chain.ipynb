{
 "cells": [
  {
   "cell_type": "markdown",
   "id": "9de8f781-08fa-48a9-a485-abeaf94a8a5a",
   "metadata": {},
   "source": [
    "# LangGraph Chain"
   ]
  },
  {
   "cell_type": "markdown",
   "id": "e9d2ef68-b808-46b2-bbc9-932681026f8c",
   "metadata": {},
   "source": [
    "# 1. Import Packages"
   ]
  },
  {
   "cell_type": "code",
   "execution_count": 1,
   "id": "050993f4-9aa1-4dcc-b843-ff2e76a4fd09",
   "metadata": {},
   "outputs": [],
   "source": [
    "# APIs\n",
    "import os\n",
    "from dotenv import load_dotenv\n",
    "\n",
    "# Models-1\n",
    "import HFModel\n",
    "from langchain_openai import ChatOpenAI\n",
    "from langchain_huggingface import ChatHuggingFace\n",
    "\n",
    "# Graph\n",
    "from langgraph.graph import MessagesState, StateGraph, START, END\n",
    "from langchain_core.messages import HumanMessage\n",
    "from IPython.display import Image, display"
   ]
  },
  {
   "cell_type": "markdown",
   "id": "0d44051b-a64d-4494-bb86-0153afa29018",
   "metadata": {},
   "source": [
    "# 2. Create Chat Models"
   ]
  },
  {
   "cell_type": "code",
   "execution_count": 2,
   "id": "07a68fe3-e732-42e1-b566-3bcd046d07eb",
   "metadata": {},
   "outputs": [
    {
     "name": "stdout",
     "output_type": "stream",
     "text": [
      "Successfully login to Hugging Face.\n",
      "Tokenizer for meta-llama/Llama-3.2-1B-Instruct is loaded.\n",
      "The quantization config is created.\n"
     ]
    },
    {
     "name": "stderr",
     "output_type": "stream",
     "text": [
      "Device set to use cuda:0\n"
     ]
    },
    {
     "name": "stdout",
     "output_type": "stream",
     "text": [
      "Model meta-llama/Llama-3.2-1B-Instruct is loaded.\n",
      "The text generation pipeline is created.\n",
      "The Hugging Face pipeline is created.\n"
     ]
    }
   ],
   "source": [
    "load_dotenv(override=True)\n",
    "\n",
    "# GPT\n",
    "OPENAI_API_KEY = os.getenv(\"OPENAI_API_KEY\", \"type-your-api-key-here\")\n",
    "gpt = \"gpt-4o-mini\"\n",
    "\n",
    "# Ollama\n",
    "OLLAMA_API_KEY = \"ollama\"\n",
    "OLLAMA_BASE_URL = \"http://localhost:11434/v1\"\n",
    "llama = \"llama3.2\"\n",
    "\n",
    "# Hugging Face-1\n",
    "HF_TOKEN = os.getenv(\"HUGGINGFACE_TOKEN\", \"type-your-token-here\")\n",
    "hf_model_name = \"meta-llama/Llama-3.2-1B-Instruct\"\n",
    "llama_hf = HFModel.HFModel(hf_token=HF_TOKEN, model_name=hf_model_name, temperature=0.3)\n",
    "\n",
    "# Note: The Llama 3.2 1B model has LIMITED tool calling support. better to use other models."
   ]
  },
  {
   "cell_type": "code",
   "execution_count": 3,
   "id": "960a0665-f0e1-494a-bfc3-8dd66c130200",
   "metadata": {},
   "outputs": [
    {
     "data": {
      "text/plain": [
       "{'model_name': 'meta-llama/Llama-3.2-1B-Instruct',\n",
       " 'temperature': 0.3,\n",
       " 'vocab_size': 128256,\n",
       " 'max_new_tokens': 512,\n",
       " 'model_size': 749275136,\n",
       " 'quantized': True,\n",
       " 'device': device(type='cuda', index=0)}"
      ]
     },
     "execution_count": 3,
     "metadata": {},
     "output_type": "execute_result"
    }
   ],
   "source": [
    "llama_hf.get_model_info()"
   ]
  },
  {
   "cell_type": "code",
   "execution_count": 4,
   "id": "25523f1b-1eae-4d6b-896e-c30c3d7491d0",
   "metadata": {},
   "outputs": [],
   "source": [
    "# Create chat models\n",
    "llm_gpt = ChatOpenAI(model=gpt, temperature=0.3)\n",
    "llm_llama = ChatOpenAI(model=llama, temperature=0.3, api_key=OLLAMA_API_KEY, base_url=OLLAMA_BASE_URL)\n",
    "llm_llama_hf = ChatHuggingFace(llm=llama_hf.hf_pipeline, model_id=llama_hf.model_name)"
   ]
  },
  {
   "cell_type": "markdown",
   "id": "c0e8ea16-aa31-4648-a459-08392eab3787",
   "metadata": {},
   "source": [
    "## Testing the Chat Models"
   ]
  },
  {
   "cell_type": "markdown",
   "id": "699e11d5-f2d3-4856-b59b-dca5e8c4e291",
   "metadata": {},
   "source": [
    "### GPT"
   ]
  },
  {
   "cell_type": "code",
   "execution_count": 5,
   "id": "a40585c0-c1c9-4b13-820d-a67b1cd13c46",
   "metadata": {},
   "outputs": [
    {
     "name": "stdout",
     "output_type": "stream",
     "text": [
      "CPU times: total: 62.5 ms\n",
      "Wall time: 2.03 s\n"
     ]
    },
    {
     "data": {
      "text/plain": [
       "AIMessage(content='Hello! How can I assist you today?', additional_kwargs={'refusal': None}, response_metadata={'token_usage': {'completion_tokens': 9, 'prompt_tokens': 10, 'total_tokens': 19, 'completion_tokens_details': {'accepted_prediction_tokens': 0, 'audio_tokens': 0, 'reasoning_tokens': 0, 'rejected_prediction_tokens': 0}, 'prompt_tokens_details': {'audio_tokens': 0, 'cached_tokens': 0}}, 'model_name': 'gpt-4o-mini-2024-07-18', 'system_fingerprint': 'fp_34a54ae93c', 'id': 'chatcmpl-Bh7hqaq6qdqD0DblZbo7kULukDVeT', 'service_tier': 'default', 'finish_reason': 'stop', 'logprobs': None}, id='run--c4f3cc54-c172-4d8e-990f-c418a2dadec3-0', usage_metadata={'input_tokens': 10, 'output_tokens': 9, 'total_tokens': 19, 'input_token_details': {'audio': 0, 'cache_read': 0}, 'output_token_details': {'audio': 0, 'reasoning': 0}})"
      ]
     },
     "execution_count": 5,
     "metadata": {},
     "output_type": "execute_result"
    }
   ],
   "source": [
    "%%time\n",
    "test_gpt_response = llm_gpt.invoke(\"Hello there!\")\n",
    "test_gpt_response"
   ]
  },
  {
   "cell_type": "code",
   "execution_count": 6,
   "id": "d78a2c5f-7486-46b7-ba37-fc81ea3b2144",
   "metadata": {},
   "outputs": [
    {
     "data": {
      "text/plain": [
       "{'token_usage': {'completion_tokens': 9,\n",
       "  'prompt_tokens': 10,\n",
       "  'total_tokens': 19,\n",
       "  'completion_tokens_details': {'accepted_prediction_tokens': 0,\n",
       "   'audio_tokens': 0,\n",
       "   'reasoning_tokens': 0,\n",
       "   'rejected_prediction_tokens': 0},\n",
       "  'prompt_tokens_details': {'audio_tokens': 0, 'cached_tokens': 0}},\n",
       " 'model_name': 'gpt-4o-mini-2024-07-18',\n",
       " 'system_fingerprint': 'fp_34a54ae93c',\n",
       " 'id': 'chatcmpl-Bh7hqaq6qdqD0DblZbo7kULukDVeT',\n",
       " 'service_tier': 'default',\n",
       " 'finish_reason': 'stop',\n",
       " 'logprobs': None}"
      ]
     },
     "execution_count": 6,
     "metadata": {},
     "output_type": "execute_result"
    }
   ],
   "source": [
    "test_gpt_response.response_metadata"
   ]
  },
  {
   "cell_type": "markdown",
   "id": "468d36b2-aa48-434f-97a7-d9352500bf76",
   "metadata": {},
   "source": [
    "### Llama Ollama"
   ]
  },
  {
   "cell_type": "code",
   "execution_count": 7,
   "id": "4bcbe62d-726a-470a-a447-d2bb679699b6",
   "metadata": {},
   "outputs": [
    {
     "name": "stdout",
     "output_type": "stream",
     "text": [
      "CPU times: total: 31.2 ms\n",
      "Wall time: 4.27 s\n"
     ]
    },
    {
     "data": {
      "text/plain": [
       "AIMessage(content=\"It's nice to meet you. Is there something I can help you with or would you like to chat?\", additional_kwargs={'refusal': None}, response_metadata={'token_usage': {'completion_tokens': 23, 'prompt_tokens': 28, 'total_tokens': 51, 'completion_tokens_details': None, 'prompt_tokens_details': None}, 'model_name': 'llama3.2', 'system_fingerprint': 'fp_ollama', 'id': 'chatcmpl-187', 'service_tier': None, 'finish_reason': 'stop', 'logprobs': None}, id='run--97a7ce9d-5077-4d4a-9e58-c1712fa9f1d5-0', usage_metadata={'input_tokens': 28, 'output_tokens': 23, 'total_tokens': 51, 'input_token_details': {}, 'output_token_details': {}})"
      ]
     },
     "execution_count": 7,
     "metadata": {},
     "output_type": "execute_result"
    }
   ],
   "source": [
    "%%time\n",
    "test_llama_response = llm_llama.invoke(\"Hello there!\")\n",
    "test_llama_response"
   ]
  },
  {
   "cell_type": "code",
   "execution_count": 8,
   "id": "b22d6240-aaa4-42f3-b870-deba1f8ce416",
   "metadata": {},
   "outputs": [
    {
     "data": {
      "text/plain": [
       "{'token_usage': {'completion_tokens': 23,\n",
       "  'prompt_tokens': 28,\n",
       "  'total_tokens': 51,\n",
       "  'completion_tokens_details': None,\n",
       "  'prompt_tokens_details': None},\n",
       " 'model_name': 'llama3.2',\n",
       " 'system_fingerprint': 'fp_ollama',\n",
       " 'id': 'chatcmpl-187',\n",
       " 'service_tier': None,\n",
       " 'finish_reason': 'stop',\n",
       " 'logprobs': None}"
      ]
     },
     "execution_count": 8,
     "metadata": {},
     "output_type": "execute_result"
    }
   ],
   "source": [
    "test_llama_response.response_metadata"
   ]
  },
  {
   "cell_type": "markdown",
   "id": "817cdab5-b55e-4c6b-bb22-c111a2244c12",
   "metadata": {},
   "source": [
    "### Llama Hugging Face"
   ]
  },
  {
   "cell_type": "code",
   "execution_count": 9,
   "id": "64202d58-510e-4641-9616-cdfa7b41b3b4",
   "metadata": {},
   "outputs": [
    {
     "name": "stdout",
     "output_type": "stream",
     "text": [
      "CPU times: total: 1.39 s\n",
      "Wall time: 1.41 s\n"
     ]
    },
    {
     "data": {
      "text/plain": [
       "AIMessage(content=\"Hello! It's nice to meet you. Is there something I can help you with or would you like to chat?\", additional_kwargs={}, response_metadata={}, id='run--de4c3bb7-768f-4150-b63f-4063e0037b80-0')"
      ]
     },
     "execution_count": 9,
     "metadata": {},
     "output_type": "execute_result"
    }
   ],
   "source": [
    "%%time\n",
    "test_llama_hf_response = llm_llama_hf.invoke(\"Hello there!\")\n",
    "test_llama_hf_response"
   ]
  },
  {
   "cell_type": "code",
   "execution_count": 10,
   "id": "84871d62-dd66-49c6-8676-b8c163e1a01f",
   "metadata": {},
   "outputs": [
    {
     "data": {
      "text/plain": [
       "{}"
      ]
     },
     "execution_count": 10,
     "metadata": {},
     "output_type": "execute_result"
    }
   ],
   "source": [
    "test_llama_hf_response.response_metadata"
   ]
  },
  {
   "cell_type": "markdown",
   "id": "0c412adb-3ff8-4513-a7e7-65535fe108ed",
   "metadata": {},
   "source": [
    "# 3. Create Models with Tools"
   ]
  },
  {
   "cell_type": "code",
   "execution_count": 11,
   "id": "8cf85d1f-f445-4459-9187-cb00b4f999cc",
   "metadata": {},
   "outputs": [],
   "source": [
    "# Example of a tool\n",
    "def multiply(a: int, b: int):\n",
    "    \"\"\"Multiply a and b\n",
    "\n",
    "    Args:\n",
    "        a: first int\n",
    "        b: second int\n",
    "\n",
    "    Return:\n",
    "        Multiplication of a and b\n",
    "    \"\"\"\n",
    "    return a * b\n",
    "\n",
    "tools = [multiply]"
   ]
  },
  {
   "cell_type": "code",
   "execution_count": 12,
   "id": "077f6393-2cb8-4d59-9acd-75dbaacbe4d3",
   "metadata": {},
   "outputs": [],
   "source": [
    "# Model with tools\n",
    "llm_gpt_with_tools = llm_gpt.bind_tools(tools)\n",
    "llm_llama_with_tools = llm_llama.bind_tools(tools)\n",
    "llm_llamahf_with_tools = llm_llama_hf.bind_tools(tools)"
   ]
  },
  {
   "cell_type": "markdown",
   "id": "1a5f6cb8-9696-4576-aecf-322e42815266",
   "metadata": {},
   "source": [
    "# 4. Build a Graph"
   ]
  },
  {
   "cell_type": "code",
   "execution_count": 13,
   "id": "21fc27a1-cb85-4358-9163-cc4d7ed027d7",
   "metadata": {},
   "outputs": [
    {
     "data": {
      "image/png": "[encoded data removed]",
      "text/plain": [
       "<IPython.core.display.Image object>"
      ]
     },
     "metadata": {},
     "output_type": "display_data"
    }
   ],
   "source": [
    "# Node\n",
    "def tool_calling_llm(state: MessagesState):\n",
    "    return {\"messages\": [llm_llama_with_tools.invoke(state[\"messages\"])]} # change chat model with tools freely\n",
    "\n",
    "builder = StateGraph(MessagesState)\n",
    "builder.add_node(\"tool_calling_llm\", tool_calling_llm)\n",
    "builder.add_edge(START, \"tool_calling_llm\")\n",
    "builder.add_edge(\"tool_calling_llm\", END)\n",
    "graph = builder.compile()\n",
    "\n",
    "display(Image(graph.get_graph().draw_mermaid_png()))"
   ]
  },
  {
   "cell_type": "markdown",
   "id": "fc2500b1-e0c2-40cb-9a28-c313e6b4995c",
   "metadata": {},
   "source": [
    "## Testing the Graph"
   ]
  },
  {
   "cell_type": "code",
   "execution_count": 14,
   "id": "cac85b23-d03d-4b6c-954f-4dddc25e7f6f",
   "metadata": {},
   "outputs": [
    {
     "name": "stdout",
     "output_type": "stream",
     "text": [
      "================================\u001b[1m Human Message \u001b[0m=================================\n",
      "\n",
      "How many 5870 multipled by 5123.\n",
      "==================================\u001b[1m Ai Message \u001b[0m==================================\n",
      "Tool Calls:\n",
      "  multiply (call_osamw47d)\n",
      " Call ID: call_osamw47d\n",
      "  Args:\n",
      "    a: 5870\n",
      "    b: 5123\n"
     ]
    }
   ],
   "source": [
    "messages = graph.invoke({\"messages\": HumanMessage(content=\"How many 5870 multipled by 5123.\")})\n",
    "for message in messages[\"messages\"]:\n",
    "    message.pretty_print()"
   ]
  },
  {
   "cell_type": "code",
   "execution_count": null,
   "id": "4a48e924-2cb9-4d6b-af39-2fa96ee14b5a",
   "metadata": {},
   "outputs": [],
   "source": []
  }
 ],
 "metadata": {
  "kernelspec": {
   "display_name": "hugface",
   "language": "python",
   "name": "hugface"
  },
  "language_info": {
   "codemirror_mode": {
    "name": "ipython",
    "version": 3
   },
   "file_extension": ".py",
   "mimetype": "text/x-python",
   "name": "python",
   "nbconvert_exporter": "python",
   "pygments_lexer": "ipython3",
   "version": "3.11.11"
  }
 },
 "nbformat": 4,
 "nbformat_minor": 5
}
