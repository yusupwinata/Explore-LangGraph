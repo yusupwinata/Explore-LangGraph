{
 "cells": [
  {
   "cell_type": "markdown",
   "id": "036d6806-f1ae-44a6-8f84-a550daa70854",
   "metadata": {},
   "source": [
    "# ReAct Agent Architecture\n",
    "\n",
    "* `act` - let the model call specific tools \n",
    "* `observe` - pass the tool output back to the model \n",
    "* `reason` - let the model reason about the tool output to decide what to do next (e.g., call another tool or just respond directly)"
   ]
  },
  {
   "cell_type": "code",
   "execution_count": 1,
   "id": "38d5e405-675f-4838-a59d-f32a08b3d847",
   "metadata": {},
   "outputs": [
    {
     "name": "stdout",
     "output_type": "stream",
     "text": [
      "All API Keys and Tokens are loaded.\n"
     ]
    }
   ],
   "source": [
    "import os\n",
    "import gradio as gr\n",
    "from dotenv import load_dotenv\n",
    "from langchain_openai import ChatOpenAI\n",
    "from langchain_ollama import ChatOllama\n",
    "from langchain_google_genai import ChatGoogleGenerativeAI\n",
    "from langchain_core.messages import SystemMessage, HumanMessage, AIMessage\n",
    "from langgraph.graph import StateGraph, MessagesState, START, END\n",
    "from langgraph.prebuilt import ToolNode, tools_condition\n",
    "from IPython.display import Image, display\n",
    "\n",
    "from Creds import Creds\n",
    "my_creds = Creds()"
   ]
  },
  {
   "cell_type": "markdown",
   "id": "64321eaf-14a3-44d7-90b9-dd7fe7fa0689",
   "metadata": {},
   "source": [
    "# 1. Chat Models"
   ]
  },
  {
   "cell_type": "code",
   "execution_count": 2,
   "id": "7db7af43-ca52-4577-b3ff-0ec65e768b9f",
   "metadata": {},
   "outputs": [
    {
     "data": {
      "text/plain": [
       "ChatOllama(model='llama3.2', temperature=0.5)"
      ]
     },
     "execution_count": 2,
     "metadata": {},
     "output_type": "execute_result"
    }
   ],
   "source": [
    "# GPT\n",
    "load_dotenv(override=True)\n",
    "OPENAI_API_KEY = os.getenv(\"OPENAI_API_KEY\", \"type-your-key-here\")\n",
    "gpt = \"gpt-4o-mini\"\n",
    "\n",
    "# Gemini\n",
    "GOOGLE_API_KEY = my_creds.google_api_key\n",
    "GOOGLE_BASE_URL = my_creds.google_base_url\n",
    "gemini = \"gemini-2.0-flash\"\n",
    "\n",
    "# Llama (perform poorly)\n",
    "OLLAMA_API_KEY = my_creds.ollama_api_key\n",
    "OLLAMA_BASE_URL = my_creds.ollama_base_url\n",
    "llama = \"llama3.2\"\n",
    "\n",
    "def set_chat_models(model: str, temperature: float=0.5) -> ChatOpenAI:\n",
    "    if model == gpt:\n",
    "        return ChatOpenAI(model=gpt, temperature=temperature)\n",
    "    elif model == llama:\n",
    "        return ChatOllama(model=llama, temperature=temperature)\n",
    "        # return ChatOpenAI(model=llama, temperature=temperature, api_key=OLLAMA_API_KEY, base_url=OLLAMA_BASE_URL) # via ChatOpenAI\n",
    "    elif model == gemini:\n",
    "        return ChatGoogleGenerativeAI(model=gemini, temperature=temperature, google_api_key=GOOGLE_API_KEY)\n",
    "    else:\n",
    "        raise ValueError(f\"Model unknown: {model}\")\n",
    "\n",
    "llm = set_chat_models(llama)\n",
    "llm"
   ]
  },
  {
   "cell_type": "markdown",
   "id": "71b32b7b-5825-43d7-8a68-7f5efc744b00",
   "metadata": {},
   "source": [
    "# 2. Bind Tools"
   ]
  },
  {
   "cell_type": "code",
   "execution_count": 3,
   "id": "533feafa-7097-47b2-ade5-390d6cf511e5",
   "metadata": {},
   "outputs": [
    {
     "name": "stdout",
     "output_type": "stream",
     "text": [
      "ChatGoogleGenerativeAI or ChatOllama LLMs detected.\n"
     ]
    }
   ],
   "source": [
    "def add(a: int, b: int) -> int:\n",
    "    \"\"\"Add a and b.\n",
    "\n",
    "    Args:\n",
    "        a: first int\n",
    "        b: second int\n",
    "    \"\"\"\n",
    "    return a + b\n",
    "\n",
    "def subtract(a: int, b: int) -> int:\n",
    "    \"\"\"Subtract a and b.\n",
    "\n",
    "    Args:\n",
    "        a: first int\n",
    "        b: second int\n",
    "    \"\"\"\n",
    "    return a - b\n",
    "\n",
    "def multiply(a: int, b: int) -> int:\n",
    "    \"\"\"Multiply a and b.\n",
    "\n",
    "    Args:\n",
    "        a: first int\n",
    "        b: second int\n",
    "    \"\"\"\n",
    "    return a * b\n",
    "\n",
    "def divide(a: int, b: int) -> float:\n",
    "    \"\"\"Divide a and b.\n",
    "\n",
    "    Args:\n",
    "        a: first int\n",
    "        b: second int\n",
    "    \"\"\"\n",
    "    return a / b\n",
    "\n",
    "tools = [add, subtract, multiply, divide]\n",
    "try:\n",
    "    if llm.model_name:\n",
    "        print(\"ChatOpenAI detected.\")\n",
    "        llm_with_tools = llm.bind_tools(tools, parallel_tool_calls=False) # Set parallel tool calling to false as math generally is done sequentially.\n",
    "except:\n",
    "    print(\"ChatGoogleGenerativeAI or ChatOllama LLMs detected.\")\n",
    "    llm_with_tools = llm.bind_tools(tools)"
   ]
  },
  {
   "cell_type": "markdown",
   "id": "ba048695-efe7-4335-b7e5-bc69ee71bfbd",
   "metadata": {},
   "source": [
    "# 3. Build a Graph"
   ]
  },
  {
   "cell_type": "code",
   "execution_count": 4,
   "id": "2bd4eb43-a081-4342-9e3b-177e61b4d5be",
   "metadata": {},
   "outputs": [
    {
     "data": {
      "text/plain": [
       "SystemMessage(content=\"You are a helpful assistant tasked with performing arithmetic on a set of inputs. If the user's prompt does **not** require using any of the functions (e.g., casual conversation, greetings, small talk, or general knowledge), respond normally in plain text. Only call functions when absolutely necessary.\", additional_kwargs={}, response_metadata={})"
      ]
     },
     "execution_count": 4,
     "metadata": {},
     "output_type": "execute_result"
    }
   ],
   "source": [
    "system_prompt = \"You are a helpful assistant tasked with performing arithmetic on a set of inputs.\"\n",
    "\n",
    "llama_system_prompt = \" If the user's prompt does **not** require using any of the functions \\\n",
    "(e.g., casual conversation, greetings, small talk, or general knowledge), respond normally in plain text. \\\n",
    "Only call functions when absolutely necessary.\"\n",
    "\n",
    "try:\n",
    "    if llm.model_name == llama:\n",
    "        system_prompt += llama_system_prompt\n",
    "except:\n",
    "    if llm.model == llama:\n",
    "        system_prompt += llama_system_prompt\n",
    "\n",
    "system_message = SystemMessage(content=system_prompt)\n",
    "system_message"
   ]
  },
  {
   "cell_type": "code",
   "execution_count": 5,
   "id": "9084efb2-23ac-4f3e-b84e-6d366f2186ef",
   "metadata": {},
   "outputs": [
    {
     "data": {
      "image/png": "[encoded data removed]",
      "text/plain": [
       "<IPython.core.display.Image object>"
      ]
     },
     "metadata": {},
     "output_type": "display_data"
    }
   ],
   "source": [
    "# Build a graph\n",
    "builder = StateGraph(MessagesState)\n",
    "\n",
    "# Nodes\n",
    "def assistant(state: MessagesState):\n",
    "    return {\"messages\": [llm_with_tools.invoke([system_message] + state[\"messages\"])]}\n",
    "\n",
    "builder.add_node(\"assistant\", assistant)\n",
    "builder.add_node(\"tools\", ToolNode(tools))\n",
    "\n",
    "# Edges\n",
    "builder.add_edge(START, \"assistant\")\n",
    "builder.add_conditional_edges(\"assistant\", tools_condition)\n",
    "builder.add_edge(\"tools\", \"assistant\")\n",
    "\n",
    "react_graph = builder.compile()\n",
    "display(Image(react_graph.get_graph(xray=True).draw_mermaid_png()))"
   ]
  },
  {
   "cell_type": "markdown",
   "id": "48cc65ff-e43e-45ec-9e71-815e36653aa9",
   "metadata": {},
   "source": [
    "## Testing the Graph"
   ]
  },
  {
   "cell_type": "code",
   "execution_count": 6,
   "id": "59034c3c-cd2a-43c1-9af6-d87dae0eaf89",
   "metadata": {},
   "outputs": [
    {
     "name": "stdout",
     "output_type": "stream",
     "text": [
      "================================\u001b[1m Human Message \u001b[0m=================================\n",
      "\n",
      "Add 3 and 4. Next, multiply the output by 2. Next, divide the output by 5.\n",
      "==================================\u001b[1m Ai Message \u001b[0m==================================\n",
      "Tool Calls:\n",
      "  multiply (c061775f-6219-46a2-be29-81aeac2bef13)\n",
      " Call ID: c061775f-6219-46a2-be29-81aeac2bef13\n",
      "  Args:\n",
      "    a: 7\n",
      "    b: 2\n",
      "=================================\u001b[1m Tool Message \u001b[0m=================================\n",
      "Name: multiply\n",
      "\n",
      "14\n",
      "==================================\u001b[1m Ai Message \u001b[0m==================================\n",
      "\n",
      "To find the final answer, we need to perform two more operations.\n",
      "\n",
      "First, multiply 14 by 2:\n",
      "\n",
      "14 × 2 = 28\n",
      "\n",
      "Next, divide 28 by 5:\n",
      "\n",
      "28 ÷ 5 = 5.6\n",
      "CPU times: total: 78.1 ms\n",
      "Wall time: 4.31 s\n"
     ]
    }
   ],
   "source": [
    "%%time\n",
    "\n",
    "# 4 tambah 5, lalu kurang 7, kali 5.\n",
    "# Add 3 and 4. Multiply the output by 2. Divide the output by 5.\n",
    "# Add 13 and 7. Multiply the output by 4. Divide the output by 5. Last, substact the output with 10.\n",
    "# Add 3 and 4. Next, multiply the output by 2. Next, divide the output by 5. # works for llama\n",
    "\n",
    "messages = [HumanMessage(content=\"Add 3 and 4. Next, multiply the output by 2. Next, divide the output by 5.\")]\n",
    "messages = react_graph.invoke({\"messages\": messages})\n",
    "\n",
    "for message in messages[\"messages\"]:\n",
    "    message.pretty_print()\n",
    "\n",
    "# Note: llama3.2 model from Ollama performs poorly."
   ]
  },
  {
   "cell_type": "markdown",
   "id": "92d4127c-f09f-4497-a838-888d02ec38ea",
   "metadata": {},
   "source": [
    "# UI"
   ]
  },
  {
   "cell_type": "code",
   "execution_count": 8,
   "id": "4b3ef5ab-7386-4541-bbca-a55079773f6c",
   "metadata": {},
   "outputs": [],
   "source": [
    "def chat(message, history):\n",
    "    messages = [HumanMessage(content=message)]\n",
    "    messages = react_graph.invoke({\"messages\": messages})\n",
    "    ai_messages = [m for m in messages[\"messages\"] if isinstance(m, AIMessage)]\n",
    "    return ai_messages[-1].content if ai_messages else \"No AI response.\""
   ]
  },
  {
   "cell_type": "code",
   "execution_count": 9,
   "id": "d47e5853-2911-46e9-accd-a0dab1e2e2f7",
   "metadata": {},
   "outputs": [
    {
     "name": "stdout",
     "output_type": "stream",
     "text": [
      "* Running on local URL:  http://127.0.0.1:7860\n",
      "* To create a public link, set `share=True` in `launch()`.\n"
     ]
    },
    {
     "data": {
      "text/html": [
       "<div><iframe src=\"http://127.0.0.1:7860/\" width=\"100%\" height=\"500\" allow=\"autoplay; camera; microphone; clipboard-read; clipboard-write;\" frameborder=\"0\" allowfullscreen></iframe></div>"
      ],
      "text/plain": [
       "<IPython.core.display.HTML object>"
      ]
     },
     "metadata": {},
     "output_type": "display_data"
    }
   ],
   "source": [
    "view = gr.ChatInterface(\n",
    "    fn=chat,\n",
    "    title=\"LangGraph Arithmetic Assistant\",\n",
    "    type=\"messages\"\n",
    ").launch()"
   ]
  },
  {
   "cell_type": "code",
   "execution_count": null,
   "id": "f0d83ac4-50cb-4ce3-9772-d3b3f3b39fb2",
   "metadata": {},
   "outputs": [],
   "source": []
  }
 ],
 "metadata": {
  "kernelspec": {
   "display_name": "hugface",
   "language": "python",
   "name": "hugface"
  },
  "language_info": {
   "codemirror_mode": {
    "name": "ipython",
    "version": 3
   },
   "file_extension": ".py",
   "mimetype": "text/x-python",
   "name": "python",
   "nbconvert_exporter": "python",
   "pygments_lexer": "ipython3",
   "version": "3.11.11"
  }
 },
 "nbformat": 4,
 "nbformat_minor": 5
}
